{
 "cells": [
  {
   "cell_type": "code",
   "execution_count": 1,
   "metadata": {},
   "outputs": [
    {
     "name": "stdout",
     "output_type": "stream",
     "text": [
      "%pylab is deprecated, use %matplotlib inline and import the required libraries.\n",
      "Populating the interactive namespace from numpy and matplotlib\n"
     ]
    },
    {
     "name": "stderr",
     "output_type": "stream",
     "text": [
      "c:\\Users\\Kirkerino\\anaconda3\\envs\\ai_labs\\lib\\site-packages\\IPython\\core\\magics\\pylab.py:162: UserWarning: pylab import has clobbered these variables: ['unique', 'array']\n",
      "`%matplotlib` prevents importing * from pylab and numpy\n",
      "  warn(\"pylab import has clobbered these variables: %s\"  % clobbered +\n"
     ]
    }
   ],
   "source": [
    "from pandas import *\n",
    "import pickle\n",
    "\n",
    "%pylab inline"
   ]
  },
  {
   "cell_type": "code",
   "execution_count": 4,
   "metadata": {},
   "outputs": [],
   "source": [
    "perfectPolicy=pickle.load(open(\"perfectPolicy.p\",\"rb\"))\n",
    "\n",
    "policy=dict()\n",
    "\n",
    "randomPolicy=dict()\n",
    "\n",
    "for key in perfectPolicy.keys():\n",
    "    numberOfZerosInKey=key.count(0)\n",
    "    policy[key]=numpy.ones((numberOfZerosInKey))/float(numberOfZerosInKey)\n",
    "    randomPolicy[key]=numpy.ones((numberOfZerosInKey))/float(numberOfZerosInKey)\n",
    "    #print(len(perfectPolicy),len(policy), len(randomPolicy))"
   ]
  },
  {
   "cell_type": "code",
   "execution_count": 7,
   "metadata": {},
   "outputs": [],
   "source": [
    "def boardToTuple(board):\n",
    "    return tuple(board[0]+board[1]+board[2])\n",
    "\n",
    "def tupleToBoard(board):\n",
    "    return [list(board[0:3]),list(board[3:6]),list(board[6:9])]\n",
    "\n",
    "def getEmptyBoard():\n",
    "    return [[0,0,0],[0,0,0],[0,0,0]]\n",
    "\n",
    "def status(board):\n",
    "    for who in [1,2]:\n",
    "        for i in range(3):\n",
    "            if board[i][0]==who and board[i][1]==who and board[i][2]==who:\n",
    "                return who\n",
    "            if board[0][i]==who and board[1][i]==who and board[2][i]==who:\n",
    "                return who\n",
    "        if board[0][0]==who and board[1][1]==who and board[2][2]==who:\n",
    "            return who\n",
    "        if board[0][2]==who and board[1][1]==who and board[2][0]==who:\n",
    "            return who\n",
    "    for row in range(3):\n",
    "        for column in range(3):\n",
    "            if board[row][column]==0:\n",
    "                return -1\n",
    "    return 0\n",
    "\n",
    "def show(board):\n",
    "    print(board[0:3])\n",
    "    print(board[3:6])\n",
    "    print(f'{board[6:9]}\\n')\n",
    "\n",
    "# Player 1: O\n",
    "# Player 2: X\n",
    "def play(policyO,policyX,verbose=False):\n",
    "    board=[0,0,0,0,0,0,0,0,0]\n",
    "    currentPlayer=0 #0=O 1=X\n",
    "    policies=[policyO,policyX]\n",
    "    actions=[[],[]]\n",
    "    choices=[[],[]]\n",
    "    counter=1\n",
    "\n",
    "    while status(tupleToBoard(tuple(board)))==-1:\n",
    "        probabilities=policies[currentPlayer][tuple(board)]\n",
    "        actions[currentPlayer].append(tuple(board))\n",
    "        emptySpots=[]\n",
    "        for i in range(9):\n",
    "            if board[i]==0:\n",
    "                emptySpots.append(i)\n",
    "        target=numpy.random.choice(emptySpots,p=probabilities)\n",
    "        choices[currentPlayer].append(target)\n",
    "        board[target]=currentPlayer+1\n",
    "        if verbose:\n",
    "            print(f'Move number: {counter}')\n",
    "            counter=counter+1\n",
    "            show(board)\n",
    "        currentPlayer=1-currentPlayer\n",
    "\n",
    "    if (status(tupleToBoard(tuple(board)))==0 or 1 or 2) and verbose:\n",
    "        show(board)\n",
    "        if status(tupleToBoard(tuple(board)))==0:\n",
    "            print(f'Draw after {counter} moves!')\n",
    "        if status(tupleToBoard(tuple(board)))==1:\n",
    "            print(f'Winner: Player 1 after {counter} moves!')\n",
    "        if status(tupleToBoard(tuple(board)))==2:\n",
    "            print(f'Winner: Player 2 after {counter} moves!')\n",
    "    return status(tupleToBoard(tuple(board))),actions[0],actions[1],choices[0],choices[1]\n",
    "\n",
    "def evaluatePolicies(policyO,policyX,n=1000):\n",
    "    count=[0,0,0]\n",
    "    for i in range(n):\n",
    "        result,actionsO,actionsX,choicesO,choicesX=play(policyO,policyX)\n",
    "        count[result]+=1\n",
    "    return count"
   ]
  },
  {
   "cell_type": "code",
   "execution_count": 9,
   "metadata": {},
   "outputs": [
    {
     "data": {
      "text/plain": [
       "(2,\n",
       " [(0, 0, 0, 0, 0, 0, 0, 0, 0),\n",
       "  (0, 0, 0, 0, 2, 1, 0, 0, 0),\n",
       "  (0, 2, 0, 1, 2, 1, 0, 0, 0),\n",
       "  (0, 2, 2, 1, 2, 1, 0, 0, 1)],\n",
       " [(0, 0, 0, 0, 0, 1, 0, 0, 0),\n",
       "  (0, 0, 0, 1, 2, 1, 0, 0, 0),\n",
       "  (0, 2, 0, 1, 2, 1, 0, 0, 1),\n",
       "  (1, 2, 2, 1, 2, 1, 0, 0, 1)],\n",
       " [5, 3, 8, 0],\n",
       " [4, 1, 2, 6])"
      ]
     },
     "execution_count": 9,
     "metadata": {},
     "output_type": "execute_result"
    }
   ],
   "source": [
    "play(policy,perfectPolicy)"
   ]
  }
 ],
 "metadata": {
  "kernelspec": {
   "display_name": "ai_labs",
   "language": "python",
   "name": "python3"
  },
  "language_info": {
   "codemirror_mode": {
    "name": "ipython",
    "version": 3
   },
   "file_extension": ".py",
   "mimetype": "text/x-python",
   "name": "python",
   "nbconvert_exporter": "python",
   "pygments_lexer": "ipython3",
   "version": "3.8.18"
  }
 },
 "nbformat": 4,
 "nbformat_minor": 2
}
